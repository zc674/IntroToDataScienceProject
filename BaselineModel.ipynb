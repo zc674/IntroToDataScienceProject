{
 "cells": [
  {
   "cell_type": "code",
   "execution_count": 1,
   "metadata": {},
   "outputs": [],
   "source": [
    "import pandas as pd\n",
    "import numpy as np\n",
    "import os\n",
    "import matplotlib.pyplot as plt\n",
    "%matplotlib inline\n"
   ]
  },
  {
   "cell_type": "code",
   "execution_count": 35,
   "metadata": {},
   "outputs": [
    {
     "data": {
      "text/html": [
       "<div>\n",
       "<style scoped>\n",
       "    .dataframe tbody tr th:only-of-type {\n",
       "        vertical-align: middle;\n",
       "    }\n",
       "\n",
       "    .dataframe tbody tr th {\n",
       "        vertical-align: top;\n",
       "    }\n",
       "\n",
       "    .dataframe thead th {\n",
       "        text-align: right;\n",
       "    }\n",
       "</style>\n",
       "<table border=\"1\" class=\"dataframe\">\n",
       "  <thead>\n",
       "    <tr style=\"text-align: right;\">\n",
       "      <th></th>\n",
       "      <th>Unnamed: 0</th>\n",
       "      <th>track_name</th>\n",
       "      <th>artist_name</th>\n",
       "      <th>lyrics</th>\n",
       "    </tr>\n",
       "  </thead>\n",
       "  <tbody>\n",
       "    <tr>\n",
       "      <th>63</th>\n",
       "      <td>63</td>\n",
       "      <td>Own It</td>\n",
       "      <td>2 Chainz &amp; Wiz Khalifa</td>\n",
       "      <td>\\n\\n[Intro: Wiz Khalifa &amp; 2 Chainz]\\nIt's Youn...</td>\n",
       "    </tr>\n",
       "    <tr>\n",
       "      <th>75</th>\n",
       "      <td>75</td>\n",
       "      <td>S&amp;M</td>\n",
       "      <td>Ed Sheeran</td>\n",
       "      <td>\\n\\n[Verse 1]\\nThe club isn't the best place t...</td>\n",
       "    </tr>\n",
       "    <tr>\n",
       "      <th>127</th>\n",
       "      <td>127</td>\n",
       "      <td>Infinite</td>\n",
       "      <td>Eminem</td>\n",
       "      <td>\\n\\n[Produced by Mr. Porter &amp; Jeff Bass]\\n\\n[I...</td>\n",
       "    </tr>\n",
       "    <tr>\n",
       "      <th>135</th>\n",
       "      <td>135</td>\n",
       "      <td>Faded</td>\n",
       "      <td>Alan Walker</td>\n",
       "      <td>\\n\\n[Verse 1]\\nYou were the shadow to my light...</td>\n",
       "    </tr>\n",
       "    <tr>\n",
       "      <th>161</th>\n",
       "      <td>161</td>\n",
       "      <td>Girls</td>\n",
       "      <td>Maroon 5</td>\n",
       "      <td>\\n\\n[Verse 1: Adam Levine]\\nSpent 24 hours, I ...</td>\n",
       "    </tr>\n",
       "  </tbody>\n",
       "</table>\n",
       "</div>"
      ],
      "text/plain": [
       "     Unnamed: 0 track_name             artist_name  \\\n",
       "63           63     Own It  2 Chainz & Wiz Khalifa   \n",
       "75           75        S&M              Ed Sheeran   \n",
       "127         127   Infinite                  Eminem   \n",
       "135         135      Faded             Alan Walker   \n",
       "161         161      Girls                Maroon 5   \n",
       "\n",
       "                                                lyrics  \n",
       "63   \\n\\n[Intro: Wiz Khalifa & 2 Chainz]\\nIt's Youn...  \n",
       "75   \\n\\n[Verse 1]\\nThe club isn't the best place t...  \n",
       "127  \\n\\n[Produced by Mr. Porter & Jeff Bass]\\n\\n[I...  \n",
       "135  \\n\\n[Verse 1]\\nYou were the shadow to my light...  \n",
       "161  \\n\\n[Verse 1: Adam Levine]\\nSpent 24 hours, I ...  "
      ]
     },
     "execution_count": 35,
     "metadata": {},
     "output_type": "execute_result"
    }
   ],
   "source": [
    "# Read and preprocess data\n",
    "df1 = pd.read_csv('../Shaoling/track_lyrics_1.csv')\n",
    "df2 = pd.read_csv('../Shaoling/track_lyrics_2.csv')\n",
    "df = pd.read_csv('Billboard Data/Billboard_with_Spotify_features.csv')\n",
    "bb = pd.read_csv('Billboard Data/billboard_2014_to_current.csv')\n",
    "# find tracks that are unique on billboard\n",
    "tracks = df.title.unique()\n",
    "billboard_lyrics = df1.loc[df1.track_name.isin(tracks)].append(df2.loc[df2.track_name.isin(tracks)])\n",
    "# selected features\n",
    "features = [\n",
    " 'title',\n",
    " 'Spotify_ID',\n",
    " 'Spotify_Popularity',\n",
    " 'Is_Explicit',\n",
    " 'acousticness',\n",
    " 'danceability',\n",
    " 'energy',\n",
    " 'instrumentalness',\n",
    " 'liveness',\n",
    " 'loudness',\n",
    " 'mode',\n",
    " 'speechiness',\n",
    " 'tempo',\n",
    " 'valence']\n",
    "billboard_lyrics.head()"
   ]
  },
  {
   "cell_type": "code",
   "execution_count": 3,
   "metadata": {},
   "outputs": [],
   "source": [
    "# drop duplicates items\n",
    "df = df[features].drop_duplicates()\n",
    "# unused columns\n",
    "billboard_lyrics.drop('Unnamed: 0',axis = 1,\n",
    "                     inplace = True)\n",
    "\n",
    "positive_class = pd.merge(df,billboard_lyrics,left_on='title',\n",
    "        right_on = 'track_name')\n",
    "positive_class['Label'] = 1"
   ]
  },
  {
   "cell_type": "code",
   "execution_count": null,
   "metadata": {},
   "outputs": [],
   "source": [
    "negative_class = pd.read_csv('Billboard Data/tracks_with_audio_features.csv')\n",
    "# negative class are from different API calling, so column name is different\n",
    "negative_class.rename({'id':'Spotify_ID',\n",
    "                       'popularity':'Spotify_Popularity',\n",
    "                       'name':'title',\n",
    "                      'release_date':'Spotify_release_Date',\n",
    "                      'explicit':'Is_Explicit'},axis = 1,\n",
    "                     inplace = True)\n",
    "\n",
    "negative_class = negative_class[features]\n",
    "# to make it accurate, drop the duplicate items in this dataset\n",
    "# since audio features should not be duplicated with other id\n",
    "\n",
    "temp = pd.merge(negative_class,df1[['track_name','lyrics']],\n",
    "        left_on = 'title',\n",
    "        right_on = 'track_name')\n",
    "songs_wrong = (temp.title.value_counts().loc[temp.title.value_counts() >= 2]).index\n",
    "print(temp.shape)\n",
    "temp = temp.loc[~temp.title.isin(songs_wrong)]\n",
    "print(temp.shape)\n",
    "\n",
    "negative_class = temp\n",
    "negative_class['Label'] = 0"
   ]
  },
  {
   "cell_type": "code",
   "execution_count": 4,
   "metadata": {},
   "outputs": [
    {
     "data": {
      "text/plain": [
       "14"
      ]
     },
     "execution_count": 4,
     "metadata": {},
     "output_type": "execute_result"
    }
   ],
   "source": [
    "import gc\n",
    "del temp\n",
    "del df1\n",
    "del df2\n",
    "del bb\n",
    "gc.collect()"
   ]
  },
  {
   "cell_type": "markdown",
   "metadata": {},
   "source": [
    "# Simple text classifier for tracks"
   ]
  },
  {
   "cell_type": "code",
   "execution_count": 12,
   "metadata": {},
   "outputs": [],
   "source": [
    "model_data = positive_class[['Spotify_ID','lyrics','Label']]\\\n",
    ".append(negative_class[['Spotify_ID','lyrics','Label']].sample(n = positive_class.shape[0]))\n"
   ]
  },
  {
   "cell_type": "code",
   "execution_count": 13,
   "metadata": {},
   "outputs": [
    {
     "data": {
      "text/plain": [
       "1    804\n",
       "0    804\n",
       "Name: Label, dtype: int64"
      ]
     },
     "execution_count": 13,
     "metadata": {},
     "output_type": "execute_result"
    }
   ],
   "source": [
    "model_data.Label.value_counts()\n",
    "\n"
   ]
  },
  {
   "cell_type": "code",
   "execution_count": 14,
   "metadata": {},
   "outputs": [],
   "source": [
    "from sklearn.feature_extraction.text import CountVectorizer\n",
    "from sklearn.feature_extraction.text import TfidfVectorizer\n",
    "from sklearn.model_selection import train_test_split\n",
    "\n"
   ]
  },
  {
   "cell_type": "code",
   "execution_count": 19,
   "metadata": {},
   "outputs": [],
   "source": [
    "countVect = CountVectorizer(binary = True,stop_words='english',\n",
    "                           ngram_range = (1,2))\n"
   ]
  },
  {
   "cell_type": "code",
   "execution_count": 36,
   "metadata": {},
   "outputs": [],
   "source": [
    "model_data['lyrics'] = [str(i) for i in model_data['lyrics']]"
   ]
  },
  {
   "cell_type": "code",
   "execution_count": 45,
   "metadata": {},
   "outputs": [],
   "source": [
    "model_data['lyrics'] = model_data['lyrics'].str.replace('\\n',' ')"
   ]
  },
  {
   "cell_type": "code",
   "execution_count": 46,
   "metadata": {},
   "outputs": [],
   "source": [
    "X = model_data.drop(['Label','Spotify_ID'],1)\n",
    "Y = model_data['Label']\n",
    "X_train, X_test, y_train, y_test = train_test_split(X,Y)"
   ]
  },
  {
   "cell_type": "code",
   "execution_count": 47,
   "metadata": {},
   "outputs": [
    {
     "data": {
      "text/plain": [
       "str"
      ]
     },
     "execution_count": 47,
     "metadata": {},
     "output_type": "execute_result"
    }
   ],
   "source": [
    "type(X_train.iloc[0,0])"
   ]
  },
  {
   "cell_type": "code",
   "execution_count": 51,
   "metadata": {},
   "outputs": [
    {
     "data": {
      "text/html": [
       "<div>\n",
       "<style scoped>\n",
       "    .dataframe tbody tr th:only-of-type {\n",
       "        vertical-align: middle;\n",
       "    }\n",
       "\n",
       "    .dataframe tbody tr th {\n",
       "        vertical-align: top;\n",
       "    }\n",
       "\n",
       "    .dataframe thead th {\n",
       "        text-align: right;\n",
       "    }\n",
       "</style>\n",
       "<table border=\"1\" class=\"dataframe\">\n",
       "  <thead>\n",
       "    <tr style=\"text-align: right;\">\n",
       "      <th></th>\n",
       "      <th>lyrics</th>\n",
       "    </tr>\n",
       "  </thead>\n",
       "  <tbody>\n",
       "    <tr>\n",
       "      <th>26</th>\n",
       "      <td>[Chorus: 2 Chainz &amp; Drake] I love bad bitche...</td>\n",
       "    </tr>\n",
       "    <tr>\n",
       "      <th>422</th>\n",
       "      <td>[Part 1: Yoncé]  [Intro] Let me hear you say...</td>\n",
       "    </tr>\n",
       "    <tr>\n",
       "      <th>7548</th>\n",
       "      <td>So this was supposed to be a plain and simpl...</td>\n",
       "    </tr>\n",
       "    <tr>\n",
       "      <th>707</th>\n",
       "      <td>I really hope I can do it 'Cause they’re all...</td>\n",
       "    </tr>\n",
       "    <tr>\n",
       "      <th>12680</th>\n",
       "      <td>[Hook: Shneezin]: Wer, wer macht den Song? K...</td>\n",
       "    </tr>\n",
       "  </tbody>\n",
       "</table>\n",
       "</div>"
      ],
      "text/plain": [
       "                                                  lyrics\n",
       "26       [Chorus: 2 Chainz & Drake] I love bad bitche...\n",
       "422      [Part 1: Yoncé]  [Intro] Let me hear you say...\n",
       "7548     So this was supposed to be a plain and simpl...\n",
       "707      I really hope I can do it 'Cause they’re all...\n",
       "12680    [Hook: Shneezin]: Wer, wer macht den Song? K..."
      ]
     },
     "execution_count": 51,
     "metadata": {},
     "output_type": "execute_result"
    }
   ],
   "source": [
    "X_train.head()"
   ]
  },
  {
   "cell_type": "code",
   "execution_count": 62,
   "metadata": {},
   "outputs": [],
   "source": [
    "X_vect = countVect.fit_transform(X_train.lyrics.tolist()).toarray()"
   ]
  },
  {
   "cell_type": "code",
   "execution_count": 63,
   "metadata": {},
   "outputs": [],
   "source": [
    "X_vect_test = countVect.transform(X_test.lyrics.tolist()).toarray()"
   ]
  },
  {
   "cell_type": "code",
   "execution_count": 57,
   "metadata": {},
   "outputs": [],
   "source": [
    "X_vect = pd.DataFrame(X_vect,\n",
    "                      columns = countVect.get_feature_names())"
   ]
  },
  {
   "cell_type": "code",
   "execution_count": 65,
   "metadata": {},
   "outputs": [],
   "source": [
    "X_vect_test = pd.DataFrame(X_vect_test,\n",
    "                          columns = countVect.get_feature_names())"
   ]
  },
  {
   "cell_type": "code",
   "execution_count": 88,
   "metadata": {},
   "outputs": [],
   "source": [
    "from sklearn.naive_bayes import BernoulliNB\n",
    "from sklearn import metrics\n",
    "from sklearn.linear_model import LogisticRegression"
   ]
  },
  {
   "cell_type": "markdown",
   "metadata": {},
   "source": [
    "### Model fitting\n",
    "BernoulliNB seems like overfit data, which gives super high recall but poor accuracy + precision\n",
    "\n",
    "Logitstic Regression did much better job in generalization."
   ]
  },
  {
   "cell_type": "code",
   "execution_count": 90,
   "metadata": {},
   "outputs": [],
   "source": [
    "bn = BernoulliNB(alpha=10)\n",
    "bn = LogisticRegression()"
   ]
  },
  {
   "cell_type": "code",
   "execution_count": 91,
   "metadata": {},
   "outputs": [
    {
     "data": {
      "text/plain": [
       "<matplotlib.legend.Legend at 0x11af2d940>"
      ]
     },
     "execution_count": 91,
     "metadata": {},
     "output_type": "execute_result"
    },
    {
     "data": {
      "image/png": "[encoded data removed]",
      "text/plain": [
       "<Figure size 432x288 with 1 Axes>"
      ]
     },
     "metadata": {
      "needs_background": "light"
     },
     "output_type": "display_data"
    }
   ],
   "source": [
    "bn.fit(X_vect,y_train)\n",
    "y_pred_prob = bn.predict_proba(X_vect_test)\n",
    "y_pred = bn.predict(X_vect_test)\n",
    "fpr, tpr, thresholds = metrics.roc_curve(y_true=y_test,y_score=y_pred_prob[:,1])\n",
    "roc_auc = metrics.auc(fpr,tpr)\n",
    "plt.plot(fpr, tpr, label = 'BN + COUNT (AUC = %0.3f)' % roc_auc)\n",
    "plt.plot([0, 1], [0, 1], 'k--')\n",
    "plt.xlim([0.0, 1.0])\n",
    "plt.ylim([0.0, 1.0])\n",
    "plt.xlabel('FPR')\n",
    "plt.ylabel('TPR')\n",
    "plt.title('ROC')\n",
    "plt.legend(loc=\"lower right\")\n"
   ]
  },
  {
   "cell_type": "code",
   "execution_count": 92,
   "metadata": {},
   "outputs": [
    {
     "name": "stdout",
     "output_type": "stream",
     "text": [
      "0.8233830845771144\n",
      "0.7787610619469026\n",
      "0.8934010152284264\n"
     ]
    },
    {
     "data": {
      "text/plain": [
       "array([[176,  21],\n",
       "       [ 50, 155]])"
      ]
     },
     "execution_count": 92,
     "metadata": {},
     "output_type": "execute_result"
    }
   ],
   "source": [
    "print(metrics.accuracy_score(y_pred=y_pred,y_true=y_test))\n",
    "print(metrics.precision_score(y_pred=y_pred,y_true=y_test))\n",
    "print(metrics.recall_score(y_pred=y_pred,y_true=y_test))\n",
    "metrics.confusion_matrix(y_pred=y_pred,y_true=y_test,\n",
    "                        labels =[1,0])"
   ]
  },
  {
   "cell_type": "code",
   "execution_count": null,
   "metadata": {},
   "outputs": [],
   "source": []
  }
 ],
 "metadata": {
  "kernelspec": {
   "display_name": "Python 3",
   "language": "python",
   "name": "python3"
  },
  "language_info": {
   "codemirror_mode": {
    "name": "ipython",
    "version": 3
   },
   "file_extension": ".py",
   "mimetype": "text/x-python",
   "name": "python",
   "nbconvert_exporter": "python",
   "pygments_lexer": "ipython3",
   "version": "3.6.5"
  }
 },
 "nbformat": 4,
 "nbformat_minor": 2
}
