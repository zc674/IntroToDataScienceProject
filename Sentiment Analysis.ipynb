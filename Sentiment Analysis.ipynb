{
 "cells": [
  {
   "cell_type": "code",
   "execution_count": 286,
   "metadata": {
    "collapsed": true
   },
   "outputs": [],
   "source": [
    "import numpy as np\n",
    "import pandas as pd\n",
    "import matplotlib.pyplot as plt\n",
    "import json\n",
    "\n",
    "FS = 16 # fontsize\n",
    "%matplotlib inline\n",
    "plt.style.use('seaborn')\n",
    "df1 = pd.read_csv(\"/Users/chenshaoling/ds-1001-spotify/Bofei/Billboard Data/Billboard_with_Spotify_features.csv\")\n",
    "df2 = pd.read_csv(\"/Users/chenshaoling/ds-1001-spotify/Shaoling/Billboard_lyrics.csv\")"
   ]
  },
  {
   "cell_type": "code",
   "execution_count": 287,
   "metadata": {
    "collapsed": true
   },
   "outputs": [],
   "source": [
    "import sys\n",
    "if not sys.warnoptions:\n",
    "    import warnings\n",
    "    warnings.simplefilter(\"ignore\")"
   ]
  },
  {
   "cell_type": "markdown",
   "metadata": {},
   "source": [
    "# Match BillBoard tracks with Genius Lyrics"
   ]
  },
  {
   "cell_type": "code",
   "execution_count": 288,
   "metadata": {
    "collapsed": true
   },
   "outputs": [],
   "source": [
    "features = [\n",
    " 'title',\n",
    " 'artist',\n",
    " 'Spotify_ID',\n",
    " 'Spotify_Popularity',\n",
    " 'Is_Explicit',\n",
    " 'acousticness',\n",
    " 'danceability',\n",
    " 'energy',\n",
    " 'instrumentalness',\n",
    " 'liveness',\n",
    " 'loudness',\n",
    " 'mode',\n",
    " 'speechiness',\n",
    " 'tempo',\n",
    " 'valence']\n",
    "df1_1 = df1[features].drop_duplicates()"
   ]
  },
  {
   "cell_type": "code",
   "execution_count": 289,
   "metadata": {
    "collapsed": true
   },
   "outputs": [],
   "source": [
    "import Levenshtein\n",
    "def isSameArtist1(name1, name2):\n",
    "    return (name1.lower() in name2.lower()) or (name2.lower() in name1.lower()) or (name1.lower() == name2.lower())\n",
    "def isSameArtist2(name1,name2):\n",
    "    return (Levenshtein.ratio(name1.lower(), name2.lower()) > 0.5)"
   ]
  },
  {
   "cell_type": "code",
   "execution_count": 290,
   "metadata": {
    "collapsed": true
   },
   "outputs": [],
   "source": [
    "df12 = pd.merge(df1_1,df2,left_on =['title','artist'], \n",
    "         right_on = ['track_name','artist_name'], how = 'left')\n",
    "df12_1 = df12.drop_duplicates(['title', 'artist'])"
   ]
  },
  {
   "cell_type": "code",
   "execution_count": 291,
   "metadata": {
    "collapsed": true
   },
   "outputs": [],
   "source": [
    "def matchArtist(row):\n",
    "    subdf2 = df2[df2['track_name'] == row['title']]\n",
    "    for i in subdf2.index:\n",
    "        if isSameArtist1(subdf2['artist_name'][i], row['artist']):\n",
    "            row['track_name'] = subdf2['track_name'][i]\n",
    "            row['artist_name'] = subdf2['artist_name'][i]\n",
    "            row['lyrics'] = subdf2['lyrics'][i]\n",
    "    if row['track_name']:\n",
    "        return row\n",
    "    else:\n",
    "        for i in subdf2.index:\n",
    "            if isSameArtist2(subdf2['artist_name'][i], row['artist']):\n",
    "                row['track_name'] = subdf2['track_name'][i]\n",
    "                row['artist_name'] = subdf2['artist_name'][i]\n",
    "                row['lyrics'] = subdf2['lyrics'][i]\n",
    "        if row['track_name']:\n",
    "            return row\n",
    "        else:\n",
    "            row['track_name'] = subdf2['track_name'][subdf2.index[0]]\n",
    "            row['artist_name'] = subdf2['artist_name'][subdf2.index[0]]\n",
    "            row['lyrics'] = subdf2['lyrics'][subdf2.index[0]]\n",
    "            return row\n",
    "nanIndex = df12_1[df12_1['track_name'].isnull()].index\n",
    "df12_1.ix[nanIndex] = df12_1.ix[nanIndex].apply(matchArtist, axis = 1)"
   ]
  },
  {
   "cell_type": "code",
   "execution_count": 292,
   "metadata": {
    "scrolled": false
   },
   "outputs": [
    {
     "data": {
      "text/plain": [
       "505"
      ]
     },
     "execution_count": 292,
     "metadata": {},
     "output_type": "execute_result"
    }
   ],
   "source": [
    "len(df12_1[df12_1['track_name'].isnull()])"
   ]
  },
  {
   "cell_type": "code",
   "execution_count": 293,
   "metadata": {
    "collapsed": true
   },
   "outputs": [],
   "source": [
    "del df12_1['Unnamed: 0']\n",
    "del df12_1['artist_name']\n",
    "del df12_1['track_name']"
   ]
  },
  {
   "cell_type": "code",
   "execution_count": 294,
   "metadata": {},
   "outputs": [
    {
     "data": {
      "text/plain": [
       "519"
      ]
     },
     "execution_count": 294,
     "metadata": {},
     "output_type": "execute_result"
    }
   ],
   "source": [
    "df12_1.shape[0]-df12_1.dropna().shape[0]"
   ]
  },
  {
   "cell_type": "code",
   "execution_count": 315,
   "metadata": {
    "collapsed": true
   },
   "outputs": [],
   "source": [
    "df12_2 = df12_1[['title','artist','lyrics']].dropna()\n",
    "df12_2['lyrics'] = df12_2['lyrics'].str.replace('\\n',' ').replace('\\\\','')\n",
    "df12_2['lyrics'] = df12_2['lyrics'].apply(lambda x: re.sub(u\"\\\\[.*?]\", \"\", x))"
   ]
  },
  {
   "cell_type": "markdown",
   "metadata": {},
   "source": [
    "# Word Frequency Analysis"
   ]
  },
  {
   "cell_type": "code",
   "execution_count": 316,
   "metadata": {},
   "outputs": [
    {
     "name": "stdout",
     "output_type": "stream",
     "text": [
      "[nltk_data] Downloading package stopwords to\n",
      "[nltk_data]     /Users/chenshaoling/nltk_data...\n",
      "[nltk_data]   Package stopwords is already up-to-date!\n"
     ]
    }
   ],
   "source": [
    "import nltk\n",
    "#from nltk.corpus import stopwords\n",
    "nltk.download('stopwords')\n",
    "from string import punctuation\n",
    "punctuation = \"\".join([symbol for symbol in punctuation if symbol not in [\"'\", '\"']])\n",
    "punctuation += '–'\n",
    "\n",
    "def clean_str(s):\n",
    "    return s.translate(str.maketrans('', '', punctuation)).replace('\\u200b', \" \").strip().lower()\n",
    "\n",
    "def tokenizeText(txt, remove_stop_words=True):\n",
    "    \"\"\"Splits a string of text into individual words\"\"\"\n",
    "    stop_words = set(stopwords.words('english')) if remove_stop_words else []\n",
    "    words = [w for w in clean_str(txt).split() if w not in stop_words]\n",
    "    words = ['N-Word' if w in ['nigga', 'niggas'] else w for w in words]\n",
    "    return words"
   ]
  },
  {
   "cell_type": "code",
   "execution_count": 317,
   "metadata": {
    "collapsed": true
   },
   "outputs": [],
   "source": [
    "freq_dists, total_words = [], []\n",
    "token_lists = list(map(tokenizeText, df12_2.lyrics))\n",
    "tokens = [word for song in token_lists for word in song]\n",
    "freq_dists.append(nltk.FreqDist(tokens))"
   ]
  },
  {
   "cell_type": "code",
   "execution_count": 318,
   "metadata": {},
   "outputs": [
    {
     "data": {
      "text/plain": [
       "[FreqDist({\"i'm\": 13820, 'like': 11340, 'yeah': 9325, 'know': 8549, 'got': 8532, 'N-Word': 8356, 'get': 7123, \"ain't\": 5350, 'love': 5341, 'go': 4464, ...})]"
      ]
     },
     "execution_count": 318,
     "metadata": {},
     "output_type": "execute_result"
    }
   ],
   "source": [
    "freq_dists"
   ]
  },
  {
   "cell_type": "code",
   "execution_count": 319,
   "metadata": {
    "collapsed": true
   },
   "outputs": [],
   "source": [
    "all_words = []\n",
    "for lyrics in df12_2.lyrics:\n",
    "     all_words.extend(lyrics.split(' '))\n",
    "total_words.append(len(all_words))"
   ]
  },
  {
   "cell_type": "code",
   "execution_count": 330,
   "metadata": {},
   "outputs": [
    {
     "data": {
      "image/png": "[encoded data removed]",
      "text/plain": [
       "<Figure size 720x432 with 1 Axes>"
      ]
     },
     "metadata": {},
     "output_type": "display_data"
    }
   ],
   "source": [
    "num_words = 20\n",
    "fig, ax = plt.subplots(figsize=(10, 6), sharex=True)\n",
    "for fd, total in zip(freq_dists, total_words):\n",
    "    words, counts = zip(*[(word,count) for word, count in fd.most_common(num_words)])\n",
    "    idxs = np.arange(num_words)\n",
    "    counts = 10000*(np.asarray(counts)/total)\n",
    "\n",
    "    ax.bar(idxs, counts, width=0.85, alpha=0.9)\n",
    "    ax.set_ylabel('Usage per 10,000 words', fontsize=FS)\n",
    "    ax.set_xticks([])\n",
    "    ax.grid(True)\n",
    "    \n",
    "    params = {'fontsize': FS-2, 'rotation':80, 'va':'bottom', 'ha':'center',\n",
    "              'color':'white', 'alpha':1, 'weight':'heavy', 'zorder':50}\n",
    "    for idx, word in zip(idxs, words):\n",
    "        ax.text(idx, 2.6, word, fontdict=params)\n",
    "    \n",
    "    y = ax.get_ylim()[1]\n",
    "    x = idxs[-1]*1.04    \n",
    "    xlim = ax.get_xlim()\n",
    "    mid = np.mean(xlim)\n",
    "    params = {'fontsize': FS+36, 'weight': 'heavy', 'ha': 'right', 'va':'bottom',\n",
    "              'alpha': 1, 'color':np.array([219, 219, 219])/255, 'zorder':500}    \n",
    "    \n",
    "    ax.tick_params(labelsize=FS, direction='out')\n",
    "    ax.set_xlim([-1, num_words])\n",
    "\n",
    "plt.subplots_adjust(bottom=0.1, right=0.9, top=0.9, hspace=0.1)\n",
    "plt.show()\n"
   ]
  },
  {
   "cell_type": "markdown",
   "metadata": {},
   "source": [
    "# Sentimental Analysis"
   ]
  },
  {
   "cell_type": "code",
   "execution_count": 339,
   "metadata": {
    "collapsed": true
   },
   "outputs": [],
   "source": [
    "df12_2_Index = df12_2['lyrics'].index"
   ]
  },
  {
   "cell_type": "code",
   "execution_count": 359,
   "metadata": {},
   "outputs": [
    {
     "name": "stdout",
     "output_type": "stream",
     "text": [
      "[nltk_data] Downloading package vader_lexicon to\n",
      "[nltk_data]     /Users/chenshaoling/nltk_data...\n",
      "[nltk_data]   Package vader_lexicon is already up-to-date!\n"
     ]
    }
   ],
   "source": [
    "from nltk.sentiment.vader import SentimentIntensityAnalyzer\n",
    "nltk.download('vader_lexicon')\n",
    "df = pd.DataFrame(columns=('track', 'pos', 'neu', 'neg','compound','Com_Index'))\n",
    "sid = SentimentIntensityAnalyzer()\n",
    "i = 0\n",
    "for row in df12_2_Index:  \n",
    "    sentence = df12_2['lyrics'][row] \n",
    "    comp = sid.polarity_scores(sentence) \n",
    "    if comp['compound'] >0.5:\n",
    "        df.loc[i] = (df12_2['title'][row], comp['pos'], comp['neu'], comp['neg'], comp['compound'],'Pos')\n",
    "    elif comp['compound'] < -0.5:\n",
    "        df.loc[i] = (df12_2['title'][row], comp['pos'], comp['neu'], comp['neg'], comp['compound'],'Neg')\n",
    "    else:\n",
    "        df.loc[i] = (df12_2['title'][row], comp['pos'], comp['neu'], comp['neg'], comp['compound'],'Neu')\n",
    "    i+=1"
   ]
  },
  {
   "cell_type": "code",
   "execution_count": 373,
   "metadata": {
    "collapsed": true
   },
   "outputs": [],
   "source": [
    "X = [pd.value_counts(df['Com_Index'])['Pos'],\n",
    "    pd.value_counts(df['Com_Index'])['Neg'],\n",
    "    pd.value_counts(df['Com_Index'])['Neu']]"
   ]
  },
  {
   "cell_type": "code",
   "execution_count": 377,
   "metadata": {},
   "outputs": [
    {
     "data": {
      "text/plain": [
       "([<matplotlib.patches.Wedge at 0x1a51aeac88>,\n",
       "  <matplotlib.patches.Wedge at 0x1a51af53c8>,\n",
       "  <matplotlib.patches.Wedge at 0x1a51af5b38>],\n",
       " [Text(0.0226208,1.09977,'Pos'),\n",
       "  Text(-0.205506,-1.08063,'Neg'),\n",
       "  Text(1.08463,-0.183241,'Neu')],\n",
       " [Text(0.0123386,0.599873,'49.345371%'),\n",
       "  Text(-0.112094,-0.589436,'45.327315%'),\n",
       "  Text(0.591617,-0.0999494,'5.327314%')])"
      ]
     },
     "execution_count": 377,
     "metadata": {},
     "output_type": "execute_result"
    },
    {
     "data": {
      "image/png": "[encoded data removed]",
      "text/plain": [
       "<Figure size 576x576 with 1 Axes>"
      ]
     },
     "metadata": {},
     "output_type": "display_data"
    }
   ],
   "source": [
    "labels=['Pos', 'Neg', 'Neu']\n",
    "fig = plt.subplots(figsize=(8, 8), sharex=True)\n",
    "plt.pie(X,labels=labels,autopct='%2.6f%%')"
   ]
  },
  {
   "cell_type": "code",
   "execution_count": null,
   "metadata": {
    "collapsed": true
   },
   "outputs": [],
   "source": []
  },
  {
   "cell_type": "code",
   "execution_count": null,
   "metadata": {
    "collapsed": true
   },
   "outputs": [],
   "source": []
  },
  {
   "cell_type": "code",
   "execution_count": null,
   "metadata": {
    "collapsed": true
   },
   "outputs": [],
   "source": []
  }
 ],
 "metadata": {
  "kernelspec": {
   "display_name": "Python 3",
   "language": "python",
   "name": "python3"
  },
  "language_info": {
   "codemirror_mode": {
    "name": "ipython",
    "version": 3
   },
   "file_extension": ".py",
   "mimetype": "text/x-python",
   "name": "python",
   "nbconvert_exporter": "python",
   "pygments_lexer": "ipython3",
   "version": "3.6.3"
  }
 },
 "nbformat": 4,
 "nbformat_minor": 2
}
